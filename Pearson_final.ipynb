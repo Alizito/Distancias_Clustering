{
  "nbformat": 4,
  "nbformat_minor": 0,
  "metadata": {
    "colab": {
      "provenance": [],
      "authorship_tag": "ABX9TyMZXXlz8LrYopv14nuMZ5Sr",
      "include_colab_link": true
    },
    "kernelspec": {
      "name": "python3",
      "display_name": "Python 3"
    },
    "language_info": {
      "name": "python"
    }
  },
  "cells": [
    {
      "cell_type": "markdown",
      "metadata": {
        "id": "view-in-github",
        "colab_type": "text"
      },
      "source": [
        "<a href=\"https://colab.research.google.com/github/Alizito/Distancias_Clustering/blob/main/Pearson_final.ipynb\" target=\"_parent\"><img src=\"https://colab.research.google.com/assets/colab-badge.svg\" alt=\"Open In Colab\"/></a>"
      ]
    },
    {
      "cell_type": "code",
      "source": [
        "import matplotlib.pyplot as plt\n",
        "import time\n",
        "from IPython.display import clear_output\n",
        "import os\n",
        "from math import sqrt\n",
        "import pandas as pd\n",
        "os.system('cls' if os.name == 'nt' else 'clear')"
      ],
      "metadata": {
        "colab": {
          "base_uri": "https://localhost:8080/"
        },
        "id": "CL33sOQgQfnf",
        "outputId": "18f238c4-1e50-49fc-e50e-4a661e7c5d7f"
      },
      "execution_count": null,
      "outputs": [
        {
          "output_type": "execute_result",
          "data": {
            "text/plain": [
              "0"
            ]
          },
          "metadata": {},
          "execution_count": 8
        }
      ]
    },
    {
      "cell_type": "code",
      "source": [
        "x=[185,170,168,179,182,188]\n",
        "y=[72,56,60,68,72,77]\n",
        "x1=[]\n",
        "y1=[]\n",
        "k1=[]\n",
        "k2=[]"
      ],
      "metadata": {
        "id": "qBpbh58duR6F"
      },
      "execution_count": null,
      "outputs": []
    },
    {
      "cell_type": "code",
      "source": [
        "plt.scatter(x,y,color=\"red\")\n",
        "plt.grid(color='gray', linestyle='--', linewidth=0.5)\n",
        "plt.title('Puntos')\n",
        "plt.xlabel('x')\n",
        "plt.ylabel('y')\n",
        "plt.xlim(165, 190)\n",
        "plt.ylim(50, 80)\n",
        "plt.show()"
      ],
      "metadata": {
        "colab": {
          "base_uri": "https://localhost:8080/",
          "height": 472
        },
        "id": "92UY7o0lu-m7",
        "outputId": "91ea781f-7416-487e-94f1-9004aab035f6"
      },
      "execution_count": null,
      "outputs": [
        {
          "output_type": "display_data",
          "data": {
            "text/plain": [
              "<Figure size 640x480 with 1 Axes>"
            ],
            "image/png": "[encoded data removed]"
          },
          "metadata": {}
        }
      ]
    },
    {
      "cell_type": "markdown",
      "source": [
        "<big><big><big><big><big><big><big>FUNCIONES"
      ],
      "metadata": {
        "id": "es_of9r3wIe6"
      }
    },
    {
      "cell_type": "markdown",
      "source": [
        "d(A, B) = √((x_A - x_B)^2 + (y_A - y_B)^2"
      ],
      "metadata": {
        "id": "7lFQ47Rl08-a"
      }
    },
    {
      "cell_type": "code",
      "source": [
        "def centroide1(i):\n",
        "  r=sqrt(pow((x[i]-k1[0]),2)+pow((y[i]-k1[1]),2))\n",
        "  #print(r)\n",
        "  return r"
      ],
      "metadata": {
        "id": "lXxoYcEowH0l"
      },
      "execution_count": null,
      "outputs": []
    },
    {
      "cell_type": "code",
      "source": [
        "def centroide2(i):\n",
        "  r=sqrt(pow((x[i]-k2[0]),2)+pow((y[i]-k2[1]),2))\n",
        "  #print(r)\n",
        "  return r"
      ],
      "metadata": {
        "id": "8WumME4Kw3M0"
      },
      "execution_count": null,
      "outputs": []
    },
    {
      "cell_type": "markdown",
      "source": [
        "Nuevo centroide"
      ],
      "metadata": {
        "id": "fOgJtGpLwZNR"
      }
    },
    {
      "cell_type": "code",
      "source": [
        "def new_centroide1(i):\n",
        "  k=[]\n",
        "  k.append((k1[0]+x[i])/2)\n",
        "  k.append((k1[1]+y[i])/2)\n",
        "  k1.clear()\n",
        "  return k\n"
      ],
      "metadata": {
        "id": "akepaLePwHx6"
      },
      "execution_count": null,
      "outputs": []
    },
    {
      "cell_type": "code",
      "source": [
        "def new_centroide2(i):\n",
        "  k=[]\n",
        "  k.append((k2[0]+x[i])/2)\n",
        "  k.append((k2[1]+y[i])/2)\n",
        "  k2.clear()\n",
        "  return k"
      ],
      "metadata": {
        "id": "mUHWhtSewHvR"
      },
      "execution_count": null,
      "outputs": []
    },
    {
      "cell_type": "code",
      "source": [
        "def act_final():\n",
        "  suma_x1=0\n",
        "  suma_y1=0\n",
        "  suma_x2=0\n",
        "  suma_y2=0\n",
        "  cont1=0\n",
        "  cont2=0\n",
        "  for j in range(len(datos)):\n",
        "    if datos[j]==1:\n",
        "      suma_x1= x1[j]+suma_x1\n",
        "      suma_y1= y1[j]+suma_y1\n",
        "      cont1+=1\n",
        "    else:\n",
        "      suma_x2= x1[j]+suma_x2\n",
        "      suma_y2= y1[j]+suma_y2\n",
        "      cont2+=1\n",
        "  suma_x1=suma_x1/cont1\n",
        "  suma_y1=suma_y1/cont1\n",
        "  suma_x2=suma_x2/cont2\n",
        "  suma_y2=suma_y2/cont2\n",
        "  cluster1=[suma_x1,suma_y1]\n",
        "  cluster2=[suma_x2,suma_y2]\n",
        "  return cluster1,cluster2"
      ],
      "metadata": {
        "id": "cak3nx93wOnA"
      },
      "execution_count": null,
      "outputs": []
    },
    {
      "cell_type": "markdown",
      "source": [
        "<big><big><big><big><big><big><big>PRUEBA 1"
      ],
      "metadata": {
        "id": "4PZdLfP8wPIa"
      }
    },
    {
      "cell_type": "code",
      "source": [
        "x=[185,170,168,179,182,188]\n",
        "y=[72,56,60,68,72,77]\n",
        "x1=[]\n",
        "y1=[]\n",
        "k1=[]\n",
        "k2=[]"
      ],
      "metadata": {
        "id": "hxptW3R0wdOj"
      },
      "execution_count": null,
      "outputs": []
    },
    {
      "cell_type": "code",
      "source": [
        "k1.append(x[0])\n",
        "k1.append(y[0])\n",
        "k2.append(x[1])\n",
        "k2.append(y[1])\n",
        "#...........\n",
        "x1.append(x[0])\n",
        "y1.append(y[0])\n",
        "x1.append(x[1])\n",
        "y1.append(y[1])"
      ],
      "metadata": {
        "id": "JQriQ-7uuVBq"
      },
      "execution_count": null,
      "outputs": []
    },
    {
      "cell_type": "code",
      "source": [
        "k1"
      ],
      "metadata": {
        "colab": {
          "base_uri": "https://localhost:8080/"
        },
        "id": "QxETgZsyuU--",
        "outputId": "7f6e70b4-2607-4241-88b6-364b7e97f4c4"
      },
      "execution_count": null,
      "outputs": [
        {
          "output_type": "execute_result",
          "data": {
            "text/plain": [
              "[185, 72]"
            ]
          },
          "metadata": {},
          "execution_count": 11
        }
      ]
    },
    {
      "cell_type": "code",
      "source": [
        "k2"
      ],
      "metadata": {
        "colab": {
          "base_uri": "https://localhost:8080/"
        },
        "id": "OOnfOoP8uU5L",
        "outputId": "a1d863cb-2061-432c-916a-305721ded804"
      },
      "execution_count": null,
      "outputs": [
        {
          "output_type": "execute_result",
          "data": {
            "text/plain": [
              "[170, 56]"
            ]
          },
          "metadata": {},
          "execution_count": 12
        }
      ]
    },
    {
      "cell_type": "markdown",
      "source": [
        "Codigo principal"
      ],
      "metadata": {
        "id": "3rs2nNUUYQOk"
      }
    },
    {
      "cell_type": "code",
      "execution_count": null,
      "metadata": {
        "colab": {
          "base_uri": "https://localhost:8080/",
          "height": 472
        },
        "id": "tgYpHklmP2A9",
        "outputId": "17b52b10-f272-4d4d-902a-d941831cac04"
      },
      "outputs": [
        {
          "output_type": "display_data",
          "data": {
            "text/plain": [
              "<Figure size 640x480 with 1 Axes>"
            ],
            "image/png": "[encoded data removed]"
          },
          "metadata": {}
        }
      ],
      "source": [
        "datos=[1,2]\n",
        "#---------------------------------------\n",
        "#Graficar los puntos y los primeros centroides\n",
        "#---------------------------------------\n",
        "plt.scatter(k1[0],k1[1],marker='v',color=\"red\")\n",
        "plt.scatter(k2[0],k2[1],marker='v',color=\"green\")\n",
        "#....\n",
        "plt.scatter(x[0],y[0],color=\"red\")\n",
        "plt.scatter(x[1],y[1],color=\"green\")\n",
        "#....\n",
        "\n",
        "plt.grid(color='gray', linestyle='--', linewidth=0.5)\n",
        "plt.title('Puntos')\n",
        "plt.xlabel('x')\n",
        "plt.ylabel('y')\n",
        "plt.xlim(165, 190)\n",
        "plt.ylim(50, 80)\n",
        "plt.show()\n",
        "time.sleep(3)\n",
        "clear_output()\n",
        "#---------------------------------------\n",
        "\n",
        "for i in range(2,len(x)):\n",
        "  a1=centroide1(i)\n",
        "  a2=centroide2(i)\n",
        "\n",
        "  if a1<a2:\n",
        "    datos.append(1)\n",
        "    t=1\n",
        "  else:\n",
        "    datos.append(2)\n",
        "    t=2\n",
        "  if t==1:\n",
        "    k1=new_centroide1(i)\n",
        "  else:\n",
        "    k2=new_centroide2(i)\n",
        "  x1.append(x[i])\n",
        "  y1.append(y[i])\n",
        "  #---------------------------------------\n",
        "  plt.scatter(k1[0],k1[1],marker='v',color=\"red\")\n",
        "  plt.scatter(k2[0],k2[1],marker='v',color=\"green\")\n",
        "  for j in range(len(datos)):\n",
        "    if datos[j]==1:\n",
        "      plt.scatter(x1[j],y1[j],color=\"red\")\n",
        "    else:\n",
        "      plt.scatter(x1[j],y1[j],color=\"green\")\n",
        "  plt.grid(color='gray', linestyle='--', linewidth=0.5)\n",
        "  plt.title('Puntos')\n",
        "  plt.xlabel('x')\n",
        "  plt.ylabel('y')\n",
        "  plt.xlim(165, 190)\n",
        "  plt.ylim(50, 80)\n",
        "  plt.show()\n",
        "  time.sleep(3)\n",
        "  clear_output()\n",
        "#.........................................................................................\n",
        "plt.scatter(k1[0],k1[1],marker='v',color=\"red\",label='Centroide K1')\n",
        "plt.scatter(k2[0],k2[1],marker='v',color=\"green\",label='Centroide K2')\n",
        "for j in range(len(datos)):\n",
        "  if datos[j]==1:\n",
        "    plt.scatter(x1[j],y1[j],color=\"red\")\n",
        "  else:\n",
        "    plt.scatter(x1[j],y1[j],color=\"green\")\n",
        "plt.grid(color='gray', linestyle='--', linewidth=0.5)\n",
        "plt.title('Puntos')\n",
        "plt.xlabel('x')\n",
        "plt.ylabel('y')\n",
        "plt.xlim(165, 190)\n",
        "plt.ylim(50, 80)\n",
        "plt.legend()\n",
        "plt.show()"
      ]
    },
    {
      "cell_type": "code",
      "source": [
        "datos"
      ],
      "metadata": {
        "colab": {
          "base_uri": "https://localhost:8080/"
        },
        "id": "nRcZUQhuwrze",
        "outputId": "0b6bf35e-d163-4c70-9bdc-bdacc1c3f5c8"
      },
      "execution_count": null,
      "outputs": [
        {
          "output_type": "execute_result",
          "data": {
            "text/plain": [
              "[1, 2, 2, 1, 1, 1]"
            ]
          },
          "metadata": {},
          "execution_count": 14
        }
      ]
    },
    {
      "cell_type": "code",
      "source": [
        "k1"
      ],
      "metadata": {
        "colab": {
          "base_uri": "https://localhost:8080/"
        },
        "id": "KQ5lfIXOwsbh",
        "outputId": "29b7b978-db87-4d5d-d5bd-f220be11ceeb"
      },
      "execution_count": null,
      "outputs": [
        {
          "output_type": "execute_result",
          "data": {
            "text/plain": [
              "[185.0, 74.0]"
            ]
          },
          "metadata": {},
          "execution_count": 15
        }
      ]
    },
    {
      "cell_type": "code",
      "source": [
        "k2"
      ],
      "metadata": {
        "colab": {
          "base_uri": "https://localhost:8080/"
        },
        "id": "IBShNzqwws9x",
        "outputId": "3d46c5ea-967c-4983-fe00-215da58ac805"
      },
      "execution_count": null,
      "outputs": [
        {
          "output_type": "execute_result",
          "data": {
            "text/plain": [
              "[169.0, 58.0]"
            ]
          },
          "metadata": {},
          "execution_count": 16
        }
      ]
    },
    {
      "cell_type": "markdown",
      "source": [
        "<big><big><big><big><big><big><big>PRUEBA 2"
      ],
      "metadata": {
        "id": "BNZ33WtewlWT"
      }
    },
    {
      "cell_type": "markdown",
      "source": [
        "El centroide se actualiza al final"
      ],
      "metadata": {
        "id": "nOW2Cb2fwno5"
      }
    },
    {
      "cell_type": "code",
      "source": [
        "x=[185,170,168,179,182,188]\n",
        "y=[72,56,60,68,72,77]\n",
        "x1=[]\n",
        "y1=[]\n",
        "k1=[]\n",
        "k2=[]"
      ],
      "metadata": {
        "id": "rZOdBi6jxtF8"
      },
      "execution_count": null,
      "outputs": []
    },
    {
      "cell_type": "code",
      "source": [
        "k1.append(x[0])\n",
        "k1.append(y[0])\n",
        "k2.append(x[1])\n",
        "k2.append(y[1])\n",
        "#...........\n",
        "x1.append(x[0])\n",
        "y1.append(y[0])\n",
        "x1.append(x[1])\n",
        "y1.append(y[1])"
      ],
      "metadata": {
        "id": "WrkmVxVtxvVq"
      },
      "execution_count": null,
      "outputs": []
    },
    {
      "cell_type": "code",
      "source": [
        "k1"
      ],
      "metadata": {
        "colab": {
          "base_uri": "https://localhost:8080/"
        },
        "id": "33LeIePrxvR6",
        "outputId": "da77d0b4-aca5-4bab-9265-c379d89552e0"
      },
      "execution_count": null,
      "outputs": [
        {
          "output_type": "execute_result",
          "data": {
            "text/plain": [
              "[185, 72]"
            ]
          },
          "metadata": {},
          "execution_count": 29
        }
      ]
    },
    {
      "cell_type": "code",
      "source": [
        "k2"
      ],
      "metadata": {
        "colab": {
          "base_uri": "https://localhost:8080/"
        },
        "id": "EhV3wOjextAi",
        "outputId": "ae6ec86a-2944-4c11-81a7-639ece698cfe"
      },
      "execution_count": null,
      "outputs": [
        {
          "output_type": "execute_result",
          "data": {
            "text/plain": [
              "[170, 56]"
            ]
          },
          "metadata": {},
          "execution_count": 30
        }
      ]
    },
    {
      "cell_type": "code",
      "source": [
        "datos=[1,2]\n",
        "#---------------------------------------\n",
        "#Graficar los puntos y los primeros centroides\n",
        "#---------------------------------------\n",
        "plt.scatter(k1[0],k1[1],marker='v',color=\"red\")\n",
        "plt.scatter(k2[0],k2[1],marker='v',color=\"green\")\n",
        "#....\n",
        "plt.scatter(x[0],y[0],color=\"red\")\n",
        "plt.scatter(x[1],y[1],color=\"green\")\n",
        "#....\n",
        "\n",
        "plt.grid(color='gray', linestyle='--', linewidth=0.5)\n",
        "plt.title('Puntos')\n",
        "plt.xlabel('x')\n",
        "plt.ylabel('y')\n",
        "plt.xlim(165, 190)\n",
        "plt.ylim(50, 80)\n",
        "plt.show()\n",
        "time.sleep(3)\n",
        "clear_output()\n",
        "#---------------------------------------\n",
        "\n",
        "for i in range(2,len(x)):\n",
        "  a1=centroide1(i)\n",
        "  a2=centroide2(i)\n",
        "\n",
        "  if a1<a2:\n",
        "    datos.append(1)\n",
        "    t=1\n",
        "  else:\n",
        "    datos.append(2)\n",
        "    t=2\n",
        "  x1.append(x[i])\n",
        "  y1.append(y[i])\n",
        "  #---------------------------------------\n",
        "  plt.scatter(k1[0],k1[1],marker='v',color=\"red\")\n",
        "  plt.scatter(k2[0],k2[1],marker='v',color=\"green\")\n",
        "  for j in range(len(datos)):\n",
        "    if datos[j]==1:\n",
        "      plt.scatter(x1[j],y1[j],color=\"red\")\n",
        "    else:\n",
        "      plt.scatter(x1[j],y1[j],color=\"green\")\n",
        "  plt.grid(color='gray', linestyle='--', linewidth=0.5)\n",
        "  plt.title('Puntos')\n",
        "  plt.xlabel('x')\n",
        "  plt.ylabel('y')\n",
        "  plt.xlim(165, 190)\n",
        "  plt.ylim(50, 80)\n",
        "  plt.show()\n",
        "  time.sleep(3)\n",
        "  #condicional################################################################\n",
        "  clear_output()\n",
        "k1,k2=act_final()\n",
        "#.........................................................................................\n",
        "plt.scatter(k1[0],k1[1],marker='v',color=\"red\",label='Centroide K1')\n",
        "plt.scatter(k2[0],k2[1],marker='v',color=\"green\",label='Centroide K2')\n",
        "for j in range(len(datos)):\n",
        "  if datos[j]==1:\n",
        "    plt.scatter(x1[j],y1[j],color=\"red\")\n",
        "  else:\n",
        "    plt.scatter(x1[j],y1[j],color=\"green\")\n",
        "plt.grid(color='gray', linestyle='--', linewidth=0.5)\n",
        "plt.title('Puntos')\n",
        "plt.xlabel('x')\n",
        "plt.ylabel('y')\n",
        "plt.xlim(165, 190)\n",
        "plt.ylim(50, 80)\n",
        "plt.legend()\n",
        "plt.show()"
      ],
      "metadata": {
        "colab": {
          "base_uri": "https://localhost:8080/",
          "height": 472
        },
        "id": "AET8p_cpPKrn",
        "outputId": "750bf59c-43e3-424e-d6af-6f45551950d9"
      },
      "execution_count": null,
      "outputs": [
        {
          "output_type": "display_data",
          "data": {
            "text/plain": [
              "<Figure size 640x480 with 1 Axes>"
            ],
            "image/png": "[encoded data removed]"
          },
          "metadata": {}
        }
      ]
    },
    {
      "cell_type": "code",
      "source": [
        "datos"
      ],
      "metadata": {
        "colab": {
          "base_uri": "https://localhost:8080/"
        },
        "id": "UGGkMwEHFcLS",
        "outputId": "a16121d5-4aaa-448c-cf1e-168469311136"
      },
      "execution_count": null,
      "outputs": [
        {
          "output_type": "execute_result",
          "data": {
            "text/plain": [
              "[1, 2, 2, 1, 1, 1]"
            ]
          },
          "metadata": {},
          "execution_count": 32
        }
      ]
    },
    {
      "cell_type": "code",
      "source": [
        "k1"
      ],
      "metadata": {
        "colab": {
          "base_uri": "https://localhost:8080/"
        },
        "id": "T1fXQnLVFflN",
        "outputId": "34011186-1a6c-4415-e02a-a72c155c7fc6"
      },
      "execution_count": null,
      "outputs": [
        {
          "output_type": "execute_result",
          "data": {
            "text/plain": [
              "[183.5, 72.25]"
            ]
          },
          "metadata": {},
          "execution_count": 33
        }
      ]
    },
    {
      "cell_type": "code",
      "source": [
        "k2"
      ],
      "metadata": {
        "colab": {
          "base_uri": "https://localhost:8080/"
        },
        "id": "WE2XTTN8Fgt0",
        "outputId": "6e4eab3c-7222-4249-fbab-55d4c95f07df"
      },
      "execution_count": null,
      "outputs": [
        {
          "output_type": "execute_result",
          "data": {
            "text/plain": [
              "[169.0, 58.0]"
            ]
          },
          "metadata": {},
          "execution_count": 34
        }
      ]
    },
    {
      "cell_type": "markdown",
      "source": [
        "<BIG><BIG><BIG><BIG><BIG><BIG>PEARSON"
      ],
      "metadata": {
        "id": "BVPD7dADBGAm"
      }
    },
    {
      "cell_type": "code",
      "source": [
        "x=[185,170,168,179,182,188]\n",
        "y=[72,56,60,68,72,77]"
      ],
      "metadata": {
        "id": "TibxpJz0BOu6"
      },
      "execution_count": null,
      "outputs": []
    },
    {
      "cell_type": "code",
      "source": [
        "import pandas as pd\n",
        "\n",
        "# Tus listas de datos\n",
        "x = [185, 170, 168, 179, 182, 188]\n",
        "y = [72, 56, 60, 68, 72, 77]\n",
        "\n",
        "# Crear un DataFrame\n",
        "data = {'x': x, 'y': y}\n",
        "df = pd.DataFrame(data)\n",
        "\n",
        "# Imprimir el DataFrame\n",
        "print(df)\n"
      ],
      "metadata": {
        "id": "191Da83jBOsO",
        "colab": {
          "base_uri": "https://localhost:8080/"
        },
        "outputId": "9ebf28c2-cf83-42f0-c70d-720cf972655f"
      },
      "execution_count": null,
      "outputs": [
        {
          "output_type": "stream",
          "name": "stdout",
          "text": [
            "     x   y\n",
            "0  185  72\n",
            "1  170  56\n",
            "2  168  60\n",
            "3  179  68\n",
            "4  182  72\n",
            "5  188  77\n"
          ]
        }
      ]
    },
    {
      "cell_type": "code",
      "source": [
        "correlation = df['x'].corr(df['y'])"
      ],
      "metadata": {
        "id": "idf-UUZ5BOk9"
      },
      "execution_count": null,
      "outputs": []
    },
    {
      "cell_type": "code",
      "source": [
        "print(\"Correlación entre Altura y Peso:\", correlation)"
      ],
      "metadata": {
        "colab": {
          "base_uri": "https://localhost:8080/"
        },
        "id": "4TsxJ6jCfnMW",
        "outputId": "43f83135-6f83-4be4-ece1-4f16653f536a"
      },
      "execution_count": null,
      "outputs": [
        {
          "output_type": "stream",
          "name": "stdout",
          "text": [
            "Correlación entre Altura y Peso: 0.9647705683244996\n"
          ]
        }
      ]
    },
    {
      "cell_type": "markdown",
      "source": [
        "![image.png](data:image/png;base64,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)"
      ],
      "metadata": {
        "id": "qQRqwfKNf9os"
      }
    },
    {
      "cell_type": "code",
      "source": [
        "# Datos\n",
        "x = [185, 170, 168, 179, 182, 188]\n",
        "y = [72, 56, 60, 68, 72, 77]\n",
        "\n",
        "# Calcular la media de x y y\n",
        "mean_x = sum(x) / len(x)\n",
        "mean_y = sum(y) / len(y)\n",
        "\n",
        "# Calcular la suma de los productos de las diferencias\n",
        "numerator = sum((x[i] - mean_x) * (y[i] - mean_y) for i in range(len(x)))\n",
        "\n",
        "# Calcular la suma de los cuadrados de las diferencias\n",
        "denominator_x = sum((x[i] - mean_x)**2 for i in range(len(x)))\n",
        "denominator_y = sum((y[i] - mean_y)**2 for i in range(len(y)))\n",
        "\n",
        "# Calcular la correlación\n",
        "correlation = numerator / (denominator_x**0.5 * denominator_y**0.5)\n",
        "\n",
        "print(\"Correlación manual entre Altura y Peso:\", correlation)\n"
      ],
      "metadata": {
        "colab": {
          "base_uri": "https://localhost:8080/"
        },
        "id": "pMDKrbM8f6V-",
        "outputId": "8084e68b-76e0-4ba5-f76a-e9654bc261d2"
      },
      "execution_count": null,
      "outputs": [
        {
          "output_type": "stream",
          "name": "stdout",
          "text": [
            "Correlación manual entre Altura y Peso: 0.9647705683244996\n"
          ]
        }
      ]
    },
    {
      "cell_type": "code",
      "source": [
        "matriz=df.corr()\n",
        "plt.matshow(matriz, cmap=\"bwr\",vmin=-1,vmax=1)\n",
        "plt.xticks(range(2),df.columns)\n",
        "plt.yticks(range(2),df.columns)\n",
        "plt.colorbar( )\n",
        "plt. show()\n"
      ],
      "metadata": {
        "colab": {
          "base_uri": "https://localhost:8080/",
          "height": 422
        },
        "id": "FNnmI-XvgN4t",
        "outputId": "d03a619a-2284-4c0d-c16b-f75374f6670b"
      },
      "execution_count": null,
      "outputs": [
        {
          "output_type": "display_data",
          "data": {
            "text/plain": [
              "<Figure size 480x480 with 2 Axes>"
            ],
            "image/png": "[encoded data removed]"
          },
          "metadata": {}
        }
      ]
    },
    {
      "cell_type": "code",
      "source": [
        "df.corr()"
      ],
      "metadata": {
        "id": "rW8fJXPEgziV",
        "outputId": "2142bfc4-12e0-482f-accb-b1b821752877",
        "colab": {
          "base_uri": "https://localhost:8080/",
          "height": 112
        }
      },
      "execution_count": null,
      "outputs": [
        {
          "output_type": "execute_result",
          "data": {
            "text/plain": [
              "          x         y\n",
              "x  1.000000  0.964771\n",
              "y  0.964771  1.000000"
            ],
            "text/html": [
              "\n",
              "  <div id=\"df-56024348-a1ce-4599-b40a-05667fcc6ef4\" class=\"colab-df-container\">\n",
              "    <div>\n",
              "<style scoped>\n",
              "    .dataframe tbody tr th:only-of-type {\n",
              "        vertical-align: middle;\n",
              "    }\n",
              "\n",
              "    .dataframe tbody tr th {\n",
              "        vertical-align: top;\n",
              "    }\n",
              "\n",
              "    .dataframe thead th {\n",
              "        text-align: right;\n",
              "    }\n",
              "</style>\n",
              "<table border=\"1\" class=\"dataframe\">\n",
              "  <thead>\n",
              "    <tr style=\"text-align: right;\">\n",
              "      <th></th>\n",
              "      <th>x</th>\n",
              "      <th>y</th>\n",
              "    </tr>\n",
              "  </thead>\n",
              "  <tbody>\n",
              "    <tr>\n",
              "      <th>x</th>\n",
              "      <td>1.000000</td>\n",
              "      <td>0.964771</td>\n",
              "    </tr>\n",
              "    <tr>\n",
              "      <th>y</th>\n",
              "      <td>0.964771</td>\n",
              "      <td>1.000000</td>\n",
              "    </tr>\n",
              "  </tbody>\n",
              "</table>\n",
              "</div>\n",
              "    <div class=\"colab-df-buttons\">\n",
              "\n",
              "  <div class=\"colab-df-container\">\n",
              "    <button class=\"colab-df-convert\" onclick=\"convertToInteractive('df-56024348-a1ce-4599-b40a-05667fcc6ef4')\"\n",
              "            title=\"Convert this dataframe to an interactive table.\"\n",
              "            style=\"display:none;\">\n",
              "\n",
              "  <svg xmlns=\"http://www.w3.org/2000/svg\" height=\"24px\" viewBox=\"0 -960 960 960\">\n",
              "    <path d=\"M120-120v-720h720v720H120Zm60-500h600v-160H180v160Zm220 220h160v-160H400v160Zm0 220h160v-160H400v160ZM180-400h160v-160H180v160Zm440 0h160v-160H620v160ZM180-180h160v-160H180v160Zm440 0h160v-160H620v160Z\"/>\n",
              "  </svg>\n",
              "    </button>\n",
              "\n",
              "  <style>\n",
              "    .colab-df-container {\n",
              "      display:flex;\n",
              "      gap: 12px;\n",
              "    }\n",
              "\n",
              "    .colab-df-convert {\n",
              "      background-color: #E8F0FE;\n",
              "      border: none;\n",
              "      border-radius: 50%;\n",
              "      cursor: pointer;\n",
              "      display: none;\n",
              "      fill: #1967D2;\n",
              "      height: 32px;\n",
              "      padding: 0 0 0 0;\n",
              "      width: 32px;\n",
              "    }\n",
              "\n",
              "    .colab-df-convert:hover {\n",
              "      background-color: #E2EBFA;\n",
              "      box-shadow: 0px 1px 2px rgba(60, 64, 67, 0.3), 0px 1px 3px 1px rgba(60, 64, 67, 0.15);\n",
              "      fill: #174EA6;\n",
              "    }\n",
              "\n",
              "    .colab-df-buttons div {\n",
              "      margin-bottom: 4px;\n",
              "    }\n",
              "\n",
              "    [theme=dark] .colab-df-convert {\n",
              "      background-color: #3B4455;\n",
              "      fill: #D2E3FC;\n",
              "    }\n",
              "\n",
              "    [theme=dark] .colab-df-convert:hover {\n",
              "      background-color: #434B5C;\n",
              "      box-shadow: 0px 1px 3px 1px rgba(0, 0, 0, 0.15);\n",
              "      filter: drop-shadow(0px 1px 2px rgba(0, 0, 0, 0.3));\n",
              "      fill: #FFFFFF;\n",
              "    }\n",
              "  </style>\n",
              "\n",
              "    <script>\n",
              "      const buttonEl =\n",
              "        document.querySelector('#df-56024348-a1ce-4599-b40a-05667fcc6ef4 button.colab-df-convert');\n",
              "      buttonEl.style.display =\n",
              "        google.colab.kernel.accessAllowed ? 'block' : 'none';\n",
              "\n",
              "      async function convertToInteractive(key) {\n",
              "        const element = document.querySelector('#df-56024348-a1ce-4599-b40a-05667fcc6ef4');\n",
              "        const dataTable =\n",
              "          await google.colab.kernel.invokeFunction('convertToInteractive',\n",
              "                                                    [key], {});\n",
              "        if (!dataTable) return;\n",
              "\n",
              "        const docLinkHtml = 'Like what you see? Visit the ' +\n",
              "          '<a target=\"_blank\" href=https://colab.research.google.com/notebooks/data_table.ipynb>data table notebook</a>'\n",
              "          + ' to learn more about interactive tables.';\n",
              "        element.innerHTML = '';\n",
              "        dataTable['output_type'] = 'display_data';\n",
              "        await google.colab.output.renderOutput(dataTable, element);\n",
              "        const docLink = document.createElement('div');\n",
              "        docLink.innerHTML = docLinkHtml;\n",
              "        element.appendChild(docLink);\n",
              "      }\n",
              "    </script>\n",
              "  </div>\n",
              "\n",
              "\n",
              "<div id=\"df-3e1e64bd-c1a0-4846-8a9b-0c6028dcb04b\">\n",
              "  <button class=\"colab-df-quickchart\" onclick=\"quickchart('df-3e1e64bd-c1a0-4846-8a9b-0c6028dcb04b')\"\n",
              "            title=\"Suggest charts.\"\n",
              "            style=\"display:none;\">\n",
              "\n",
              "<svg xmlns=\"http://www.w3.org/2000/svg\" height=\"24px\"viewBox=\"0 0 24 24\"\n",
              "     width=\"24px\">\n",
              "    <g>\n",
              "        <path d=\"M19 3H5c-1.1 0-2 .9-2 2v14c0 1.1.9 2 2 2h14c1.1 0 2-.9 2-2V5c0-1.1-.9-2-2-2zM9 17H7v-7h2v7zm4 0h-2V7h2v10zm4 0h-2v-4h2v4z\"/>\n",
              "    </g>\n",
              "</svg>\n",
              "  </button>\n",
              "\n",
              "<style>\n",
              "  .colab-df-quickchart {\n",
              "      --bg-color: #E8F0FE;\n",
              "      --fill-color: #1967D2;\n",
              "      --hover-bg-color: #E2EBFA;\n",
              "      --hover-fill-color: #174EA6;\n",
              "      --disabled-fill-color: #AAA;\n",
              "      --disabled-bg-color: #DDD;\n",
              "  }\n",
              "\n",
              "  [theme=dark] .colab-df-quickchart {\n",
              "      --bg-color: #3B4455;\n",
              "      --fill-color: #D2E3FC;\n",
              "      --hover-bg-color: #434B5C;\n",
              "      --hover-fill-color: #FFFFFF;\n",
              "      --disabled-bg-color: #3B4455;\n",
              "      --disabled-fill-color: #666;\n",
              "  }\n",
              "\n",
              "  .colab-df-quickchart {\n",
              "    background-color: var(--bg-color);\n",
              "    border: none;\n",
              "    border-radius: 50%;\n",
              "    cursor: pointer;\n",
              "    display: none;\n",
              "    fill: var(--fill-color);\n",
              "    height: 32px;\n",
              "    padding: 0;\n",
              "    width: 32px;\n",
              "  }\n",
              "\n",
              "  .colab-df-quickchart:hover {\n",
              "    background-color: var(--hover-bg-color);\n",
              "    box-shadow: 0 1px 2px rgba(60, 64, 67, 0.3), 0 1px 3px 1px rgba(60, 64, 67, 0.15);\n",
              "    fill: var(--button-hover-fill-color);\n",
              "  }\n",
              "\n",
              "  .colab-df-quickchart-complete:disabled,\n",
              "  .colab-df-quickchart-complete:disabled:hover {\n",
              "    background-color: var(--disabled-bg-color);\n",
              "    fill: var(--disabled-fill-color);\n",
              "    box-shadow: none;\n",
              "  }\n",
              "\n",
              "  .colab-df-spinner {\n",
              "    border: 2px solid var(--fill-color);\n",
              "    border-color: transparent;\n",
              "    border-bottom-color: var(--fill-color);\n",
              "    animation:\n",
              "      spin 1s steps(1) infinite;\n",
              "  }\n",
              "\n",
              "  @keyframes spin {\n",
              "    0% {\n",
              "      border-color: transparent;\n",
              "      border-bottom-color: var(--fill-color);\n",
              "      border-left-color: var(--fill-color);\n",
              "    }\n",
              "    20% {\n",
              "      border-color: transparent;\n",
              "      border-left-color: var(--fill-color);\n",
              "      border-top-color: var(--fill-color);\n",
              "    }\n",
              "    30% {\n",
              "      border-color: transparent;\n",
              "      border-left-color: var(--fill-color);\n",
              "      border-top-color: var(--fill-color);\n",
              "      border-right-color: var(--fill-color);\n",
              "    }\n",
              "    40% {\n",
              "      border-color: transparent;\n",
              "      border-right-color: var(--fill-color);\n",
              "      border-top-color: var(--fill-color);\n",
              "    }\n",
              "    60% {\n",
              "      border-color: transparent;\n",
              "      border-right-color: var(--fill-color);\n",
              "    }\n",
              "    80% {\n",
              "      border-color: transparent;\n",
              "      border-right-color: var(--fill-color);\n",
              "      border-bottom-color: var(--fill-color);\n",
              "    }\n",
              "    90% {\n",
              "      border-color: transparent;\n",
              "      border-bottom-color: var(--fill-color);\n",
              "    }\n",
              "  }\n",
              "</style>\n",
              "\n",
              "  <script>\n",
              "    async function quickchart(key) {\n",
              "      const quickchartButtonEl =\n",
              "        document.querySelector('#' + key + ' button');\n",
              "      quickchartButtonEl.disabled = true;  // To prevent multiple clicks.\n",
              "      quickchartButtonEl.classList.add('colab-df-spinner');\n",
              "      try {\n",
              "        const charts = await google.colab.kernel.invokeFunction(\n",
              "            'suggestCharts', [key], {});\n",
              "      } catch (error) {\n",
              "        console.error('Error during call to suggestCharts:', error);\n",
              "      }\n",
              "      quickchartButtonEl.classList.remove('colab-df-spinner');\n",
              "      quickchartButtonEl.classList.add('colab-df-quickchart-complete');\n",
              "    }\n",
              "    (() => {\n",
              "      let quickchartButtonEl =\n",
              "        document.querySelector('#df-3e1e64bd-c1a0-4846-8a9b-0c6028dcb04b button');\n",
              "      quickchartButtonEl.style.display =\n",
              "        google.colab.kernel.accessAllowed ? 'block' : 'none';\n",
              "    })();\n",
              "  </script>\n",
              "</div>\n",
              "    </div>\n",
              "  </div>\n"
            ]
          },
          "metadata": {},
          "execution_count": 12
        }
      ]
    }
  ]
}